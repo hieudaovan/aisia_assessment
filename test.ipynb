{
 "cells": [
  {
   "cell_type": "code",
   "execution_count": 23,
   "metadata": {},
   "outputs": [],
   "source": [
    "from sklearn.model_selection import train_test_split\n",
    "import pandas as pd \n",
    "import numpy as np\n",
    "import matplotlib.pyplot as plt\n",
    "from sklearn.manifold import TSNE\n",
    "import cv2\n",
    "import imagehash\n",
    "import json\n",
    "from PIL import Image\n",
    "    \n",
    "def hamming_distance(s1, s2):\n",
    "    if len(s1) != len(s2):\n",
    "        raise ValueError(\"Strings must be of equal length.\")\n",
    "\n",
    "    return sum(ch1 != ch2 for ch1, ch2 in zip(s1, s2))\n",
    "\n",
    "\n",
    "\n"
   ]
  },
  {
   "cell_type": "code",
   "execution_count": 43,
   "metadata": {},
   "outputs": [],
   "source": [
    "def read_json(json_path):\n",
    "    with open(json_path, 'r') as file:\n",
    "        data = json.load(file)\n",
    "    return data\n",
    "\n",
    "def recommend_5(query_path, data_json, distance_measure = \"hamming\"):\n",
    "    diff_list = {}\n",
    "    \n",
    "    for i in data_json.keys():\n",
    "        if distance_measure == \"hamming\":\n",
    "            diff_list[i] = hamming_distance(data_json[query_path], data_json[i])\n",
    "        elif distance_measure == \"l2\":\n",
    "        \n",
    "            diff_list[i] = np.linalg.norm(np.array(data_json[query_path])-np.array(data_json[i]))\n",
    "\n",
    "    top_5_recommend = sorted(diff_list.items(), key=lambda x: x[1], reverse=False)[:5]\n",
    "  \n",
    "    return top_5_recommend\n",
    "\n",
    "def precision_at_K(query_image_path, top_5_recommend):\n",
    "    y_cat = np.array([query_image_path.split('/')[-2]]*5)\n",
    "    # y_cat = np.array(['cardigans']*5)\n",
    "    y_pred = np.array([cat[0].split('/')[-2] for cat in top_5_recommend])\n",
    "    comparison_array = (y_cat == y_pred)\n",
    "    true_positives = np.sum(comparison_array)\n",
    "\n",
    "    return true_positives/(true_positives+  len(comparison_array)-true_positives)\n",
    "\n",
    "\n",
    "def evaluate(data_json, distance=\"hamming\"):\n",
    "    total_acc = 0\n",
    "    for k in data_json.keys():\n",
    "        top_5 = recommend_5(k, data_json, distance)\n",
    "        acc = precision_at_K(k, top_5)\n",
    "        total_acc += acc\n",
    "        \n",
    "        \n",
    "    return total_acc/len(data_json)\n"
   ]
  },
  {
   "cell_type": "code",
   "execution_count": 46,
   "metadata": {},
   "outputs": [
    {
     "name": "stdout",
     "output_type": "stream",
     "text": [
      "0.4416666666666689\n"
     ]
    }
   ],
   "source": [
    "data_dhash = read_json('/space/hotel/hieud/mlflow_aisia/latent_features_dhash.json')\n",
    "print(evaluate(data_dhash,distance=\"hamming\"))"
   ]
  },
  {
   "cell_type": "code",
   "execution_count": 45,
   "metadata": {},
   "outputs": [
    {
     "name": "stdout",
     "output_type": "stream",
     "text": [
      "0.43049450549450896\n"
     ]
    }
   ],
   "source": [
    "data_tsne = read_json('/space/hotel/hieud/mlflow_aisia/latent_features_tsne.json')\n",
    "print(evaluate(data_tsne,distance=\"l2\"))"
   ]
  },
  {
   "cell_type": "code",
   "execution_count": null,
   "metadata": {},
   "outputs": [],
   "source": []
  }
 ],
 "metadata": {
  "kernelspec": {
   "display_name": "test",
   "language": "python",
   "name": "python3"
  },
  "language_info": {
   "codemirror_mode": {
    "name": "ipython",
    "version": 3
   },
   "file_extension": ".py",
   "mimetype": "text/x-python",
   "name": "python",
   "nbconvert_exporter": "python",
   "pygments_lexer": "ipython3",
   "version": "3.9.18"
  }
 },
 "nbformat": 4,
 "nbformat_minor": 2
}
