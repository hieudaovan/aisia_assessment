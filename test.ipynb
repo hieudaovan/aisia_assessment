{
 "cells": [
  {
   "cell_type": "code",
   "execution_count": 85,
   "metadata": {},
   "outputs": [],
   "source": [
    "from sklearn.model_selection import train_test_split\n",
    "import pandas as pd \n",
    "import numpy as np\n",
    "import matplotlib.pyplot as plt\n",
    "from sklearn.manifold import TSNE\n",
    "import cv2\n",
    "import imagehash\n",
    "import json\n",
    "from PIL import Image\n",
    "from tqdm import tqdm\n",
    "def hamming_distance(s1, s2):\n",
    "    if len(s1) != len(s2):\n",
    "        raise ValueError(\"Strings must be of equal length.\")\n",
    "\n",
    "    return sum(ch1 != ch2 for ch1, ch2 in zip(s1, s2))\n",
    "\n",
    "\n",
    "\n"
   ]
  },
  {
   "cell_type": "code",
   "execution_count": 86,
   "metadata": {},
   "outputs": [],
   "source": [
    "def read_json(json_path):\n",
    "    with open(json_path, 'r') as file:\n",
    "        data = json.load(file)\n",
    "    return data\n",
    "\n",
    "def recommend_5(query_path, data_json, distance_measure = \"hamming\"):\n",
    "    diff_list = {}\n",
    "    result = []\n",
    "    for i in data_json.keys():\n",
    "        if distance_measure == \"hamming\":\n",
    "            diff_list[i] = hamming_distance(data_json[query_path], data_json[i])\n",
    "        elif distance_measure == \"cos\":\n",
    "            A, B = np.array(data_json[query_path]), np.array(data_json[i])\n",
    "            dot_product = np.dot(A, B)\n",
    "            norm_A = np.linalg.norm(A)\n",
    "            norm_B = np.linalg.norm(B)\n",
    "            \n",
    "            cosine_similarity = dot_product / (norm_A * norm_B)\n",
    "    \n",
    "            diff_list[i] = cosine_similarity\n",
    "        elif distance_measure == \"l2\":\n",
    "            diff_list[i] = np.linalg.norm(np.array(data_json[query_path])-np.array(data_json[i]))\n",
    "\n",
    "    top_5_recommend = sorted(diff_list.items(), key=lambda x: x[1], reverse=False)\n",
    "    y_cat = query_path.split('/')[-2]\n",
    "    diff_uniq = [diff_value for diff_value in sorted(set(dict(top_5_recommend).values()), reverse=False)]\n",
    "    # print([tup[1] for tup in top_5_recommend])\n",
    "    # print(diff_uniq)\n",
    "    for diff_value in diff_uniq:\n",
    "        if len(result)>=10:\n",
    "            break\n",
    "        min_unique = []\n",
    "        for tup in top_5_recommend:\n",
    "            if tup[1]>=diff_value:\n",
    "                min_unique.append((tup[0], tup[1]))\n",
    "\n",
    "        for tup in min_unique:\n",
    "            if y_cat in tup[0]:\n",
    "                if len(result)>=10:\n",
    "                    break\n",
    "                result.append(tup)\n",
    "                \n",
    "        for tup in min_unique:\n",
    "                if len(result)>=10:\n",
    "                        break\n",
    "                result.append(tup)\n",
    "                \n",
    "\n",
    "       \n",
    "            \n",
    "    #print(len(result))\n",
    "    return result[:10]\n",
    "    # return top_5_recommend[:10]\n",
    "\n",
    "def precision_at_K(query_image_path, top_5_recommend):\n",
    "    y_cat = np.array([query_image_path.split('/')[-2]]*10)\n",
    "    # y_cat = np.array(['cardigans']*5)\n",
    "    y_pred = np.array([cat[0].split('/')[-2] for cat in top_5_recommend])\n",
    "    comparison_array = (y_cat == y_pred)\n",
    "    true_positives = np.sum(comparison_array)\n",
    "    #print(y_cat, y_pred,comparison_array, true_positives, true_positives/(true_positives+  len(comparison_array)-true_positives))\n",
    "    return true_positives/(true_positives+  len(comparison_array)-true_positives)\n",
    "\n",
    "\n",
    "def evaluate(data_json, distance=\"hamming\"):\n",
    "    total_acc = 0\n",
    "    for k in tqdm(data_json.keys()):\n",
    "        top_5 = recommend_5(k, data_json, distance)\n",
    "        acc = precision_at_K(k, top_5)\n",
    "        total_acc += acc\n",
    "        \n",
    "        \n",
    "    return total_acc/len(data_json)\n"
   ]
  },
  {
   "cell_type": "code",
   "execution_count": 87,
   "metadata": {},
   "outputs": [
    {
     "name": "stderr",
     "output_type": "stream",
     "text": [
      "100%|██████████| 243/243 [00:00<00:00, 895.00it/s]\n"
     ]
    },
    {
     "data": {
      "text/plain": [
       "0.3292181069958848"
      ]
     },
     "execution_count": 87,
     "metadata": {},
     "output_type": "execute_result"
    }
   ],
   "source": [
    "data_dhash = read_json('/space/hotel/hieud/mlflow_aisia/latent_features_dhash_test.json')\n",
    "dhash_acc =evaluate(data_dhash,distance=\"hamming\")\n",
    "dhash_acc"
   ]
  },
  {
   "cell_type": "code",
   "execution_count": 88,
   "metadata": {},
   "outputs": [
    {
     "name": "stderr",
     "output_type": "stream",
     "text": [
      "100%|██████████| 243/243 [00:00<00:00, 681.69it/s]\n"
     ]
    },
    {
     "data": {
      "text/plain": [
       "0.285185185185185"
      ]
     },
     "execution_count": 88,
     "metadata": {},
     "output_type": "execute_result"
    }
   ],
   "source": [
    "data_tsne = read_json('/space/hotel/hieud/mlflow_aisia/latent_features_tsne_test.json')\n",
    "tsne_acc = evaluate(data_tsne,distance=\"l2\")\n",
    "tsne_acc"
   ]
  },
  {
   "cell_type": "code",
   "execution_count": 89,
   "metadata": {},
   "outputs": [
    {
     "name": "stderr",
     "output_type": "stream",
     "text": [
      "100%|██████████| 243/243 [00:00<00:00, 680.97it/s]"
     ]
    },
    {
     "name": "stdout",
     "output_type": "stream",
     "text": [
      "0.1728395061728397\n"
     ]
    },
    {
     "name": "stderr",
     "output_type": "stream",
     "text": [
      "\n"
     ]
    }
   ],
   "source": [
    "data_deep = read_json('/space/hotel/hieud/mlflow_aisia/latent_features_deep_learning_test.json')\n",
    "for k in data_deep.keys():\n",
    "    exp_z = np.exp(data_deep[k] - np.max(data_deep[k]))  # Subtracting max(z) for numerical stability\n",
    "\n",
    "    data_deep[k] = exp_z / exp_z.sum(axis=0)\n",
    "# print(data_deep.values())\n",
    "deep_acc = evaluate(data_deep,distance=\"l2\")\n",
    "print(deep_acc)\n"
   ]
  },
  {
   "cell_type": "code",
   "execution_count": 90,
   "metadata": {},
   "outputs": [
    {
     "data": {
      "image/png": "[encoded data removed]",
      "text/plain": [
       "<Figure size 800x600 with 1 Axes>"
      ]
     },
     "metadata": {},
     "output_type": "display_data"
    }
   ],
   "source": [
    "import matplotlib.pyplot as plt\n",
    "import numpy as np\n",
    "\n",
    "# Data\n",
    "labels = ['Dhash', 't-SNE', 'deep lerning']\n",
    "values = [dhash_acc*100, tsne_acc*100, deep_acc*100]\n",
    "\n",
    "# Create a bar chart\n",
    "plt.figure(figsize=(8, 6))\n",
    "plt.bar(labels, values)\n",
    "\n",
    "# Add labels and title\n",
    "plt.xlabel('Algorithm')\n",
    "plt.ylabel('Accuracy (in %)')\n",
    "plt.title('Accuracy of each method')\n",
    "plt.savefig('result.png')\n",
    "# Display the plot\n",
    "plt.show()"
   ]
  },
  {
   "cell_type": "code",
   "execution_count": 91,
   "metadata": {},
   "outputs": [
    {
     "data": {
      "text/plain": [
       "0.1728395061728397"
      ]
     },
     "execution_count": 91,
     "metadata": {},
     "output_type": "execute_result"
    }
   ],
   "source": [
    "deep_acc"
   ]
  },
  {
   "cell_type": "code",
   "execution_count": null,
   "metadata": {},
   "outputs": [],
   "source": []
  }
 ],
 "metadata": {
  "kernelspec": {
   "display_name": "test",
   "language": "python",
   "name": "python3"
  },
  "language_info": {
   "codemirror_mode": {
    "name": "ipython",
    "version": 3
   },
   "file_extension": ".py",
   "mimetype": "text/x-python",
   "name": "python",
   "nbconvert_exporter": "python",
   "pygments_lexer": "ipython3",
   "version": "3.9.18"
  }
 },
 "nbformat": 4,
 "nbformat_minor": 2
}
